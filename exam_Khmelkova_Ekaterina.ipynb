{
 "cells": [
  {
   "cell_type": "code",
   "execution_count": 2,
   "id": "4b4ff039",
   "metadata": {},
   "outputs": [],
   "source": [
    "# question 1"
   ]
  },
  {
   "cell_type": "code",
   "execution_count": null,
   "id": "b1f255d3",
   "metadata": {},
   "outputs": [],
   "source": [
    "# question 2\n",
    "\n"
   ]
  },
  {
   "cell_type": "code",
   "execution_count": 4,
   "id": "f46c815a",
   "metadata": {},
   "outputs": [
    {
     "ename": "AttributeError",
     "evalue": "module 'pandas' has no attribute 'dataFrame'",
     "output_type": "error",
     "traceback": [
      "\u001b[1;31m---------------------------------------------------------------------------\u001b[0m",
      "\u001b[1;31mAttributeError\u001b[0m                            Traceback (most recent call last)",
      "\u001b[1;32m~\\AppData\\Local\\Temp\\ipykernel_6372\\1465960561.py\u001b[0m in \u001b[0;36m<module>\u001b[1;34m\u001b[0m\n\u001b[0;32m      3\u001b[0m \u001b[1;32mimport\u001b[0m \u001b[0mpandas\u001b[0m \u001b[1;32mas\u001b[0m \u001b[0mpd\u001b[0m\u001b[1;33m\u001b[0m\u001b[1;33m\u001b[0m\u001b[0m\n\u001b[0;32m      4\u001b[0m \u001b[1;33m\u001b[0m\u001b[0m\n\u001b[1;32m----> 5\u001b[1;33m \u001b[0mdf\u001b[0m \u001b[1;33m=\u001b[0m \u001b[0mpd\u001b[0m\u001b[1;33m.\u001b[0m\u001b[0mdataFrame\u001b[0m\u001b[1;33m(\u001b[0m\u001b[1;33m)\u001b[0m\u001b[1;33m\u001b[0m\u001b[1;33m\u001b[0m\u001b[0m\n\u001b[0m\u001b[0;32m      6\u001b[0m \u001b[1;33m\u001b[0m\u001b[0m\n\u001b[0;32m      7\u001b[0m \u001b[0mdf\u001b[0m\u001b[1;33m[\u001b[0m\u001b[1;34m'category'\u001b[0m\u001b[1;33m]\u001b[0m \u001b[1;33m=\u001b[0m \u001b[1;33m[\u001b[0m\u001b[1;34m'cat1'\u001b[0m\u001b[1;33m,\u001b[0m \u001b[1;34m'cat2'\u001b[0m\u001b[1;33m,\u001b[0m \u001b[1;34m'cat3'\u001b[0m\u001b[1;33m,\u001b[0m \u001b[1;34m'cat1'\u001b[0m\u001b[1;33m,\u001b[0m \u001b[1;34m'cat2'\u001b[0m\u001b[1;33m,\u001b[0m \u001b[1;34m'cat3'\u001b[0m\u001b[1;33m]\u001b[0m\u001b[1;33m\u001b[0m\u001b[1;33m\u001b[0m\u001b[0m\n",
      "\u001b[1;32m~\\anaconda3\\lib\\site-packages\\pandas\\__init__.py\u001b[0m in \u001b[0;36m__getattr__\u001b[1;34m(name)\u001b[0m\n\u001b[0;32m    259\u001b[0m         \u001b[1;32mreturn\u001b[0m \u001b[0m_SparseArray\u001b[0m\u001b[1;33m\u001b[0m\u001b[1;33m\u001b[0m\u001b[0m\n\u001b[0;32m    260\u001b[0m \u001b[1;33m\u001b[0m\u001b[0m\n\u001b[1;32m--> 261\u001b[1;33m     \u001b[1;32mraise\u001b[0m \u001b[0mAttributeError\u001b[0m\u001b[1;33m(\u001b[0m\u001b[1;34mf\"module 'pandas' has no attribute '{name}'\"\u001b[0m\u001b[1;33m)\u001b[0m\u001b[1;33m\u001b[0m\u001b[1;33m\u001b[0m\u001b[0m\n\u001b[0m\u001b[0;32m    262\u001b[0m \u001b[1;33m\u001b[0m\u001b[0m\n\u001b[0;32m    263\u001b[0m \u001b[1;33m\u001b[0m\u001b[0m\n",
      "\u001b[1;31mAttributeError\u001b[0m: module 'pandas' has no attribute 'dataFrame'"
     ]
    }
   ],
   "source": [
    "# question 3\n",
    "\n",
    "import pandas as pd\n",
    "\n",
    "df = pd.dataFrame()\n",
    "\n",
    "df['category'] = ['cat1', 'cat2', 'cat3', 'cat1', 'cat2', 'cat3']\n",
    "df['pre_sales'] = [109, 115, 164, 128, 189, 193, 129]\n",
    "df['post_sale'] = [127, 134, 174, 174, 215, 239, 150]\n",
    "\n",
    "df.annovatest\n",
    "\n"
   ]
  },
  {
   "cell_type": "code",
   "execution_count": null,
   "id": "b9752737",
   "metadata": {},
   "outputs": [],
   "source": [
    "# question 4"
   ]
  },
  {
   "cell_type": "code",
   "execution_count": null,
   "id": "64384a48",
   "metadata": {},
   "outputs": [],
   "source": [
    "# question 5"
   ]
  },
  {
   "cell_type": "code",
   "execution_count": null,
   "id": "e791bc58",
   "metadata": {},
   "outputs": [],
   "source": [
    "# question 6"
   ]
  },
  {
   "cell_type": "code",
   "execution_count": null,
   "id": "a60b9c1b",
   "metadata": {},
   "outputs": [],
   "source": [
    "# question 7"
   ]
  },
  {
   "cell_type": "code",
   "execution_count": null,
   "id": "ab1290a9",
   "metadata": {},
   "outputs": [],
   "source": [
    "# question 8"
   ]
  },
  {
   "cell_type": "code",
   "execution_count": null,
   "id": "47a883ce",
   "metadata": {},
   "outputs": [],
   "source": [
    "# question 9"
   ]
  },
  {
   "cell_type": "code",
   "execution_count": null,
   "id": "ec952935",
   "metadata": {},
   "outputs": [],
   "source": [
    "# question 10"
   ]
  },
  {
   "cell_type": "code",
   "execution_count": null,
   "id": "25ae2f6b",
   "metadata": {},
   "outputs": [],
   "source": [
    "# question 11"
   ]
  },
  {
   "cell_type": "code",
   "execution_count": null,
   "id": "a2f218c8",
   "metadata": {},
   "outputs": [],
   "source": [
    "# question 12"
   ]
  },
  {
   "cell_type": "code",
   "execution_count": null,
   "id": "d4feee98",
   "metadata": {},
   "outputs": [],
   "source": [
    "# question 13"
   ]
  },
  {
   "cell_type": "code",
   "execution_count": null,
   "id": "2181fd6c",
   "metadata": {},
   "outputs": [],
   "source": [
    "# question 14"
   ]
  },
  {
   "cell_type": "code",
   "execution_count": null,
   "id": "863eb432",
   "metadata": {},
   "outputs": [],
   "source": [
    "# question 15"
   ]
  },
  {
   "cell_type": "code",
   "execution_count": null,
   "id": "67d44a50",
   "metadata": {},
   "outputs": [],
   "source": [
    "# question 16"
   ]
  },
  {
   "cell_type": "code",
   "execution_count": null,
   "id": "3d6cabaa",
   "metadata": {},
   "outputs": [],
   "source": [
    "# question 17"
   ]
  },
  {
   "cell_type": "code",
   "execution_count": null,
   "id": "4bc74f61",
   "metadata": {},
   "outputs": [],
   "source": [
    "# question 18"
   ]
  },
  {
   "cell_type": "code",
   "execution_count": null,
   "id": "33514920",
   "metadata": {},
   "outputs": [],
   "source": [
    "# question 19"
   ]
  },
  {
   "cell_type": "code",
   "execution_count": null,
   "id": "8c58fa55",
   "metadata": {},
   "outputs": [],
   "source": [
    "# question 20"
   ]
  },
  {
   "cell_type": "code",
   "execution_count": null,
   "id": "3fa5a1bc",
   "metadata": {},
   "outputs": [],
   "source": [
    "# question 21"
   ]
  },
  {
   "cell_type": "code",
   "execution_count": null,
   "id": "e2aa3b81",
   "metadata": {},
   "outputs": [],
   "source": [
    "# question 22"
   ]
  }
 ],
 "metadata": {
  "kernelspec": {
   "display_name": "Python 3 (ipykernel)",
   "language": "python",
   "name": "python3"
  },
  "language_info": {
   "codemirror_mode": {
    "name": "ipython",
    "version": 3
   },
   "file_extension": ".py",
   "mimetype": "text/x-python",
   "name": "python",
   "nbconvert_exporter": "python",
   "pygments_lexer": "ipython3",
   "version": "3.9.13"
  }
 },
 "nbformat": 4,
 "nbformat_minor": 5
}
