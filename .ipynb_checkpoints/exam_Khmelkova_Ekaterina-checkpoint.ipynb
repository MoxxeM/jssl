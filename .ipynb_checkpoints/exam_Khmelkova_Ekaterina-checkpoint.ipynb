{
 "cells": [
  {
   "cell_type": "code",
   "execution_count": null,
   "id": "4b4ff039",
   "metadata": {},
   "outputs": [],
   "source": [
    "# question 1"
   ]
  },
  {
   "cell_type": "code",
   "execution_count": null,
   "id": "b1f255d3",
   "metadata": {},
   "outputs": [],
   "source": [
    "# question 2"
   ]
  },
  {
   "cell_type": "code",
   "execution_count": null,
   "id": "f46c815a",
   "metadata": {},
   "outputs": [],
   "source": [
    "# question 3"
   ]
  },
  {
   "cell_type": "code",
   "execution_count": null,
   "id": "b9752737",
   "metadata": {},
   "outputs": [],
   "source": [
    "# question 4"
   ]
  },
  {
   "cell_type": "code",
   "execution_count": null,
   "id": "64384a48",
   "metadata": {},
   "outputs": [],
   "source": [
    "# question 5"
   ]
  },
  {
   "cell_type": "code",
   "execution_count": null,
   "id": "e791bc58",
   "metadata": {},
   "outputs": [],
   "source": [
    "# question 6"
   ]
  },
  {
   "cell_type": "code",
   "execution_count": null,
   "id": "a60b9c1b",
   "metadata": {},
   "outputs": [],
   "source": [
    "# question 7"
   ]
  },
  {
   "cell_type": "code",
   "execution_count": null,
   "id": "ab1290a9",
   "metadata": {},
   "outputs": [],
   "source": [
    "# question 8"
   ]
  },
  {
   "cell_type": "code",
   "execution_count": null,
   "id": "47a883ce",
   "metadata": {},
   "outputs": [],
   "source": [
    "# question 9"
   ]
  },
  {
   "cell_type": "code",
   "execution_count": null,
   "id": "ec952935",
   "metadata": {},
   "outputs": [],
   "source": [
    "# question 10"
   ]
  },
  {
   "cell_type": "code",
   "execution_count": null,
   "id": "25ae2f6b",
   "metadata": {},
   "outputs": [],
   "source": [
    "# question 11"
   ]
  },
  {
   "cell_type": "code",
   "execution_count": null,
   "id": "a2f218c8",
   "metadata": {},
   "outputs": [],
   "source": [
    "# question 12"
   ]
  },
  {
   "cell_type": "code",
   "execution_count": null,
   "id": "d4feee98",
   "metadata": {},
   "outputs": [],
   "source": [
    "# question 13"
   ]
  },
  {
   "cell_type": "code",
   "execution_count": null,
   "id": "2181fd6c",
   "metadata": {},
   "outputs": [],
   "source": [
    "# question 14"
   ]
  },
  {
   "cell_type": "code",
   "execution_count": null,
   "id": "863eb432",
   "metadata": {},
   "outputs": [],
   "source": [
    "# question 15"
   ]
  },
  {
   "cell_type": "code",
   "execution_count": null,
   "id": "67d44a50",
   "metadata": {},
   "outputs": [],
   "source": [
    "# question 16"
   ]
  },
  {
   "cell_type": "code",
   "execution_count": null,
   "id": "3d6cabaa",
   "metadata": {},
   "outputs": [],
   "source": [
    "# question 17"
   ]
  },
  {
   "cell_type": "code",
   "execution_count": null,
   "id": "4bc74f61",
   "metadata": {},
   "outputs": [],
   "source": [
    "# question 18"
   ]
  },
  {
   "cell_type": "code",
   "execution_count": null,
   "id": "33514920",
   "metadata": {},
   "outputs": [],
   "source": [
    "# question 19"
   ]
  },
  {
   "cell_type": "code",
   "execution_count": null,
   "id": "8c58fa55",
   "metadata": {},
   "outputs": [],
   "source": [
    "# question 20"
   ]
  },
  {
   "cell_type": "code",
   "execution_count": null,
   "id": "3fa5a1bc",
   "metadata": {},
   "outputs": [],
   "source": [
    "# question 21"
   ]
  },
  {
   "cell_type": "code",
   "execution_count": null,
   "id": "e2aa3b81",
   "metadata": {},
   "outputs": [],
   "source": [
    "# question 22"
   ]
  }
 ],
 "metadata": {
  "kernelspec": {
   "display_name": "Python 3 (ipykernel)",
   "language": "python",
   "name": "python3"
  },
  "language_info": {
   "codemirror_mode": {
    "name": "ipython",
    "version": 3
   },
   "file_extension": ".py",
   "mimetype": "text/x-python",
   "name": "python",
   "nbconvert_exporter": "python",
   "pygments_lexer": "ipython3",
   "version": "3.9.13"
  }
 },
 "nbformat": 4,
 "nbformat_minor": 5
}
